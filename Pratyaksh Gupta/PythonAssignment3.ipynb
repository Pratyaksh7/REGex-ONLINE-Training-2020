{
 "cells": [
  {
   "cell_type": "markdown",
   "metadata": {},
   "source": [
    "# Q1. Make a use of time module and for loop to produce an output Loading.... in an animated form"
   ]
  },
  {
   "cell_type": "code",
   "execution_count": 1,
   "metadata": {},
   "outputs": [
    {
     "name": "stdout",
     "output_type": "stream",
     "text": [
      "Loading....."
     ]
    }
   ],
   "source": [
    "import time\n",
    "print(\"Loading\",end=\"\")\n",
    "i=1\n",
    "while i<6 :\n",
    "    print(\".\",end=\"\")\n",
    "    time.sleep(1)\n",
    "    i+=1"
   ]
  },
  {
   "cell_type": "markdown",
   "metadata": {},
   "source": [
    "# Q2. Difference btween return and yield"
   ]
  },
  {
   "cell_type": "code",
   "execution_count": 2,
   "metadata": {},
   "outputs": [
    {
     "data": {
      "text/plain": [
       "\"\\n---> return sends a specified value back to its caller whereas yield can produce a sequence of values .\\n---> We use yield when we want to iterate over a sequence but don't want to store the entire sequence in memory.\\n\""
      ]
     },
     "execution_count": 2,
     "metadata": {},
     "output_type": "execute_result"
    }
   ],
   "source": [
    "\"\"\"\n",
    "---> return sends a specified value back to its caller whereas yield can produce a sequence of values .\n",
    "---> We use yield when we want to iterate over a sequence but don't want to store the entire sequence in memory\n",
    "\"\"\""
   ]
  },
  {
   "cell_type": "code",
   "execution_count": 3,
   "metadata": {},
   "outputs": [
    {
     "name": "stdout",
     "output_type": "stream",
     "text": [
      "1\n",
      "2\n",
      "3\n"
     ]
    }
   ],
   "source": [
    "#eg: \n",
    "def a():\n",
    "    yield 1\n",
    "    yield 2\n",
    "    yield 3\n",
    "for i in a():\n",
    "    print(i)"
   ]
  },
  {
   "cell_type": "code",
   "execution_count": 4,
   "metadata": {},
   "outputs": [
    {
     "data": {
      "text/plain": [
       "1"
      ]
     },
     "execution_count": 4,
     "metadata": {},
     "output_type": "execute_result"
    }
   ],
   "source": [
    "def a():\n",
    "    return 1\n",
    "a()"
   ]
  },
  {
   "cell_type": "markdown",
   "metadata": {},
   "source": [
    "# Q3. Make a digital clock and run it for 5 sec."
   ]
  },
  {
   "cell_type": "code",
   "execution_count": 5,
   "metadata": {},
   "outputs": [
    {
     "name": "stdout",
     "output_type": "stream",
     "text": [
      "17:32:57\n",
      "17:32:58\n",
      "17:32:59\n",
      "17:33:00\n",
      "17:33:01\n"
     ]
    }
   ],
   "source": [
    "import time\n",
    "for i in range(5):\n",
    "    a = str(time.ctime())\n",
    "    b= a.split(\" \")\n",
    "    print(b[3])\n",
    "    time.sleep(1)"
   ]
  },
  {
   "cell_type": "markdown",
   "metadata": {},
   "source": [
    "# Q4. Add anything in tuple"
   ]
  },
  {
   "cell_type": "code",
   "execution_count": 1,
   "metadata": {},
   "outputs": [
    {
     "name": "stdout",
     "output_type": "stream",
     "text": [
      "(1, 2, 3, 4, 5)\n"
     ]
    }
   ],
   "source": [
    "t1 = (1,2,3,4)\n",
    "t2 = (5,)\n",
    "new_tuple=t1+t2\n",
    "print(new_tuple)"
   ]
  },
  {
   "cell_type": "markdown",
   "metadata": {},
   "source": [
    "# Q5. Whatsapp texting using webbrowser module"
   ]
  },
  {
   "cell_type": "code",
   "execution_count": 17,
   "metadata": {},
   "outputs": [
    {
     "name": "stdout",
     "output_type": "stream",
     "text": [
      "Enter Phone Number: 9783094980\n",
      "Enter a message: hi sir , this is an automated whatsapp message sent to you from python..\n"
     ]
    }
   ],
   "source": [
    "import pyautogui,time\n",
    "pyautogui.FAILSAFE=False\n",
    "import webbrowser\n",
    "phone = input(\"Enter Phone Number: \")\n",
    "message = input(\"Enter a message: \")\n",
    "webbrowser.open_new_tab(\"https://wa.me/91\"+phone+\"?text=\"+message)\n",
    "time.sleep(10)\n",
    "pyautogui.drag(946,392)\n",
    "pyautogui.click(946,392)\n",
    "time.sleep(10)\n",
    "pyautogui.drag(965,490)\n",
    "pyautogui.click(965,490)\n",
    "time.sleep(10)\n",
    "pyautogui.drag(1786,971)\n",
    "pyautogui.click(1786,971)"
   ]
  },
  {
   "cell_type": "code",
   "execution_count": null,
   "metadata": {},
   "outputs": [],
   "source": []
  },
  {
   "cell_type": "code",
   "execution_count": 13,
   "metadata": {},
   "outputs": [
    {
     "data": {
      "text/plain": [
       "Point(x=1786, y=971)"
      ]
     },
     "execution_count": 13,
     "metadata": {},
     "output_type": "execute_result"
    }
   ],
   "source": [
    "import pyautogui\n",
    "pyautogui.position()"
   ]
  },
  {
   "cell_type": "code",
   "execution_count": null,
   "metadata": {},
   "outputs": [],
   "source": []
  }
 ],
 "metadata": {
  "anaconda-cloud": {},
  "kernelspec": {
   "display_name": "Python 3",
   "language": "python",
   "name": "python3"
  },
  "language_info": {
   "codemirror_mode": {
    "name": "ipython",
    "version": 3
   },
   "file_extension": ".py",
   "mimetype": "text/x-python",
   "name": "python",
   "nbconvert_exporter": "python",
   "pygments_lexer": "ipython3",
   "version": "3.7.6"
  }
 },
 "nbformat": 4,
 "nbformat_minor": 1
}
