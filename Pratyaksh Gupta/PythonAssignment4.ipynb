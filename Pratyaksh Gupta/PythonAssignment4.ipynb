{
 "cells": [
  {
   "cell_type": "markdown",
   "metadata": {},
   "source": [
    "# Write a Python program to read a file line by line and store it into a list."
   ]
  },
  {
   "cell_type": "code",
   "execution_count": 5,
   "metadata": {},
   "outputs": [
    {
     "name": "stdout",
     "output_type": "stream",
     "text": [
      "['readlines() is used to read all the lines at a single go and then return them as each line a string element in a list. \\n', 'This function can be used for small files, as it reads the whole file content to the memory, then split it into separate lines. \\n', \"We can iterate over the list and strip the newline '\\\\n' character using strip() function.\"]\n"
     ]
    }
   ],
   "source": [
    "def file(fname):\n",
    "        with open(fname) as f:\n",
    "                file_list = f.readlines()\n",
    "                print(file_list)\n",
    "\n",
    "file_read('test.txt')"
   ]
  },
  {
   "cell_type": "markdown",
   "metadata": {},
   "source": [
    "# Write a Python program to read a file line by line store it into an array."
   ]
  },
  {
   "cell_type": "code",
   "execution_count": 6,
   "metadata": {},
   "outputs": [
    {
     "name": "stdout",
     "output_type": "stream",
     "text": [
      "['readlines() is used to read all the lines at a single go and then return them as each line a string element in a list. \\n', 'This function can be used for small files, as it reads the whole file content to the memory, then split it into separate lines. \\n', \"We can iterate over the list and strip the newline '\\\\n' character using strip() function.\"]\n"
     ]
    }
   ],
   "source": [
    "def file(fname):\n",
    "        content_array = []\n",
    "        with open(fname) as f:\n",
    "                for text in f:\n",
    "                        content_array.append(text)\n",
    "                print(content_array)\n",
    "\n",
    "file_read('test.txt')"
   ]
  },
  {
   "cell_type": "markdown",
   "metadata": {},
   "source": [
    "# Write a Python program to read a random line from a file."
   ]
  },
  {
   "cell_type": "code",
   "execution_count": 9,
   "metadata": {},
   "outputs": [
    {
     "name": "stdout",
     "output_type": "stream",
     "text": [
      "We can iterate over the list and strip the newline '\\n' character using strip() function.\n"
     ]
    }
   ],
   "source": [
    "import random\n",
    "def random_line(fname):\n",
    "    lines = open(fname).read().splitlines()\n",
    "    return random.choice(lines)\n",
    "print(random_line('test.txt'))"
   ]
  },
  {
   "cell_type": "markdown",
   "metadata": {},
   "source": [
    "# Write a Python program to generate 26 text files named A.txt, B.txt, and so on up to Z.txt."
   ]
  },
  {
   "cell_type": "code",
   "execution_count": 10,
   "metadata": {
    "collapsed": true
   },
   "outputs": [],
   "source": [
    "import string\n",
    "import os\n",
    "if not os.path.exists(\"test\"):\n",
    "    #os.path.exists() method in Python is used to check whether the specified path exists or not. \n",
    "    #This method can be also used to check whether the given path refers to an open file descriptor or not.\n",
    "   os.makedirs(\"test\")\n",
    "for test in string.ascii_uppercase:\n",
    "   with open(test + \".txt\", \"w\") as f:\n",
    "       f.writelines(test)"
   ]
  },
  {
   "cell_type": "markdown",
   "metadata": {},
   "source": [
    "# Write a Python program to create a file where all letters of English alphabet are listed by specified number of letters on each line."
   ]
  },
  {
   "cell_type": "code",
   "execution_count": 3,
   "metadata": {},
   "outputs": [],
   "source": [
    "import string\n",
    "def file(n):\n",
    "   with open(\"words1.txt\", \"w\") as f:\n",
    "       alphabet = string.ascii_uppercase\n",
    "       letters = [alphabet[i:i + n] + \"\\n\" for i in range(0, len(alphabet), n)]\n",
    "       f.writelines(letters)\n",
    "file(3)"
   ]
  },
  {
   "cell_type": "markdown",
   "metadata": {},
   "source": [
    "# To scrap data from worldometer example: INDIA Data and run it on live mode.\n",
    "# Print Additionally total number of Coronavirus Cases, Deaths, Recovered."
   ]
  },
  {
   "cell_type": "code",
   "execution_count": 2,
   "metadata": {},
   "outputs": [],
   "source": [
    "import requests\n",
    "from bs4 import BeautifulSoup\n",
    "url = \"https://www.worldometers.info/coronavirus/\"\n",
    "page = requests.get(url)  ## server sends the information in html format and that is stored in page object\n",
    "page = page.text\n",
    "# print(page) \n",
    "\n",
    "soup = BeautifulSoup(page, \"html.parser\")\n",
    "# print(soup)\n",
    "\n",
    "#find(div/ section/head/body/h1/h2/span, {\"class/id/xpath\": \"attribute name\"})\n",
    "a= soup.find(\"div\"  ,{\"class\": \"maincounter-number\"})\n",
    "# print(a)\n",
    "# print(a.text)\n",
    "\n",
    "# b = soup.find_all(\"h1\")\n",
    "# for i in b:\n",
    "#     print(i)\n",
    "#     print(i.text)\n",
    "    \n",
    "    \n",
    "    \n",
    "# c = soup.find_all(\"a\", {\"class\":\"mt_a\"}) \n",
    "# for i in c:\n",
    "#     print(i)\n",
    "# #     print(i.text)\n",
    "\n",
    "d = soup.find(\"tbody\")\n",
    "\n",
    "d=d.text\n",
    "# print(d)\n",
    "\n",
    "fp = open(\"CoronaCases.csv\",\"w\")\n",
    "fp.write(d)\n",
    "fp.close()\n",
    "\n",
    "    \n",
    "\n",
    "\n",
    "# use of beautifulsoup is to parse the unstructured data into a structured data so that it can be presentable(in html and xml form)\n"
   ]
  },
  {
   "cell_type": "code",
   "execution_count": null,
   "metadata": {
    "collapsed": true
   },
   "outputs": [],
   "source": []
  }
 ],
 "metadata": {
  "kernelspec": {
   "display_name": "Python 3",
   "language": "python",
   "name": "python3"
  },
  "language_info": {
   "codemirror_mode": {
    "name": "ipython",
    "version": 3
   },
   "file_extension": ".py",
   "mimetype": "text/x-python",
   "name": "python",
   "nbconvert_exporter": "python",
   "pygments_lexer": "ipython3",
   "version": "3.7.6"
  }
 },
 "nbformat": 4,
 "nbformat_minor": 1
}
