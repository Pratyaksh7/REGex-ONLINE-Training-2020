{
 "cells": [
  {
   "cell_type": "code",
   "execution_count": 8,
   "metadata": {},
   "outputs": [
    {
     "name": "stdout",
     "output_type": "stream",
     "text": [
      "Enter a message: Hello, this is a sample text sending to 5 people through python script at the same time...\n",
      "Enter 5 Phone Numbers: 7082046878 9834175941 9998539146 8078613736 8739880990\n"
     ]
    }
   ],
   "source": [
    "import pyautogui,time\n",
    "pyautogui.FAILSAFE=False\n",
    "import webbrowser\n",
    "message = input(\"Enter a message: \")\n",
    "phone = input(\"Enter 5 Phone Numbers: \")\n",
    "A=[]\n",
    "A= phone.split()\n",
    "for i in A:\n",
    "    webbrowser.open_new_tab(\"https://wa.me/91\"+i+\"?text=\"+message)\n",
    "    time.sleep(10)\n",
    "    pyautogui.drag(946,392)\n",
    "    pyautogui.click(946,392)\n",
    "    time.sleep(10)\n",
    "    pyautogui.drag(965,490)\n",
    "    pyautogui.click(965,490)\n",
    "    time.sleep(10)\n",
    "    pyautogui.drag(1786,971)\n",
    "    pyautogui.click(1786,971)\n",
    "\n"
   ]
  },
  {
   "cell_type": "code",
   "execution_count": null,
   "metadata": {},
   "outputs": [],
   "source": []
  }
 ],
 "metadata": {
  "kernelspec": {
   "display_name": "Python 3",
   "language": "python",
   "name": "python3"
  },
  "language_info": {
   "codemirror_mode": {
    "name": "ipython",
    "version": 3
   },
   "file_extension": ".py",
   "mimetype": "text/x-python",
   "name": "python",
   "nbconvert_exporter": "python",
   "pygments_lexer": "ipython3",
   "version": "3.7.6"
  }
 },
 "nbformat": 4,
 "nbformat_minor": 4
}
