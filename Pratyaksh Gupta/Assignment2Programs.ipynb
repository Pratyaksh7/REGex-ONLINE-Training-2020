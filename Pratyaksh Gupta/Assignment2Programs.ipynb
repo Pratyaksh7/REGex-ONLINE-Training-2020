{
 "cells": [
  {
   "cell_type": "markdown",
   "metadata": {},
   "source": [
    "# Q1. Program to print a new list which contains all the first characters of    strings present in a list  "
   ]
  },
  {
   "cell_type": "code",
   "execution_count": 1,
   "metadata": {
    "collapsed": false
   },
   "outputs": [
    {
     "name": "stdout",
     "output_type": "stream",
     "text": [
      "Enter your string: Goa Rajasthan Karnataka Gujarat Manipur\n",
      "['G', 'R', 'K', 'G', 'M']\n"
     ]
    }
   ],
   "source": [
    "oldList = []\n",
    "newList= []\n",
    "\n",
    "string = input(\"Enter your string: \")\n",
    "oldList = string.split()\n",
    "   \n",
    "for i in oldList:\n",
    "    newList.append(i[0])  \n",
    "print(newList)    "
   ]
  },
  {
   "cell_type": "markdown",
   "metadata": {},
   "source": [
    "# Q2. Program to replace each string with an integer value in a given list of string. The replacement integer value should be a sum of Ascii vaue of each character of type corresponding string."
   ]
  },
  {
   "cell_type": "code",
   "execution_count": 2,
   "metadata": {
    "collapsed": false
   },
   "outputs": [
    {
     "name": "stdout",
     "output_type": "stream",
     "text": [
      "[478, 992, 1602, 2221, 2913]\n"
     ]
    }
   ],
   "source": [
    "list1 = ['Ganga','Tapti','Kaveri','Yamuna','Narmada']\n",
    "new_list = []\n",
    "ascii_val=0\n",
    "for i in list1:\n",
    "    for a in i:\n",
    "        ascii_val += ord(a)\n",
    "    new_list.append(ascii_val)    \n",
    "print(new_list)    "
   ]
  },
  {
   "cell_type": "markdown",
   "metadata": {},
   "source": [
    "# Q3. write a program to run your program at particular time on a particular date"
   ]
  },
  {
   "cell_type": "code",
   "execution_count": 1,
   "metadata": {
    "collapsed": false
   },
   "outputs": [
    {
     "name": "stdout",
     "output_type": "stream",
     "text": [
      "2020-04-19 17:00:00\n"
     ]
    }
   ],
   "source": [
    "import time\n",
    "import datetime\n",
    "execute_date = datetime.datetime(2020, 4, 19, 17, 0, 0)\n",
    "while datetime.datetime.now() < execute_date:\n",
    "    time.sleep(1)\n",
    "print(execute_date)    "
   ]
  },
  {
   "cell_type": "markdown",
   "metadata": {},
   "source": [
    "# Q4. Given a tuple: tuple=('a','l','g','o','r','i','t','h','m')\n",
    "##  1.Using the concept of slicing, print the whole tuple\n",
    "##  2. delete the element at the 3rd index ,print the tuple"
   ]
  },
  {
   "cell_type": "code",
   "execution_count": 3,
   "metadata": {
    "collapsed": false
   },
   "outputs": [
    {
     "name": "stdout",
     "output_type": "stream",
     "text": [
      "('a', 'l', 'g', 'o', 'r', 'i', 't', 'h', 'm')\n",
      "('a', 'l', 'g', 'r', 'i', 't', 'h', 'm')\n"
     ]
    }
   ],
   "source": [
    "tuple1 = ('a','l','g','o','r','i','t','h','m')\n",
    "\n",
    "print(tupleeleple1[::1])  #printing the tule using slicing\n",
    "\n",
    "a= tuple1[:3]+tuple1[4:]  # this will print the elements at index 0,1,2 + 4,5,6,7,8\n",
    "print(a)"
   ]
  },
  {
   "cell_type": "markdown",
   "metadata": {},
   "source": [
    "# Q5. program to  1. print only those numbers greater than 20    2. print those numbers those are less than or equal to 10"
   ]
  },
  {
   "cell_type": "code",
   "execution_count": 3,
   "metadata": {
    "collapsed": false
   },
   "outputs": [
    {
     "name": "stdout",
     "output_type": "stream",
     "text": [
      "Numbers greater than 20:  [77, 44, 33, 65, 89]\n",
      "Numbers less than equal to 10:  [1, 2, 3, 4, 5, 6, 7, 8, 9, 0]\n"
     ]
    }
   ],
   "source": [
    "REGex = [1,2,3,4,5,6,7,8,9,0,77,44,15,33,65,89,12]\n",
    "greater20 = []\n",
    "lessEqual10 = []\n",
    "\n",
    "for i in REGex:\n",
    "    if i > 20:\n",
    "        greater20.append(i)\n",
    "\n",
    "for i in REGex:\n",
    "    if i <= 10:\n",
    "        lessEqual10.append(i)\n",
    "     \n",
    "print(\"Numbers greater than 20: \", greater20)\n",
    "print(\"Numbers less than equal to 10: \",lessEqual10)"
   ]
  },
  {
   "cell_type": "markdown",
   "metadata": {
    "collapsed": true
   },
   "source": [
    "# Q6. Execute standard LINUX commands using Python Programming"
   ]
  },
  {
   "cell_type": "code",
   "execution_count": 14,
   "metadata": {
    "collapsed": false
   },
   "outputs": [],
   "source": [
    "import os\n",
    "os.mkdir(\"Regex Dirctory\")\n",
    "a = open(\"Regex Dirctory/File1.txt\",\"w\")\n",
    "a.write(\"Hello Regex in the World..\")\n",
    "a.close()"
   ]
  },
  {
   "cell_type": "code",
   "execution_count": 16,
   "metadata": {
    "collapsed": false
   },
   "outputs": [
    {
     "name": "stdout",
     "output_type": "stream",
     "text": [
      "Hello Regex in the World..\n"
     ]
    }
   ],
   "source": [
    "b= open(\"Regex Dirctory/File1.txt\", \"r\")\n",
    "print(b.read())"
   ]
  },
  {
   "cell_type": "markdown",
   "metadata": {},
   "source": []
  },
  {
   "cell_type": "markdown",
   "metadata": {
    "collapsed": false
   },
   "source": [
    "# Q7. **args and ***kwargs"
   ]
  },
  {
   "cell_type": "code",
   "execution_count": 5,
   "metadata": {
    "collapsed": false
   },
   "outputs": [
    {
     "data": {
      "text/plain": [
       "\"\\n    *args: These are the arguments which are used when a user does not know about the number of arguments being used in the\\n    program.These are the normal arguments a user can use like in the form lists or tuples.\\n    \\n    **kwargs: These are also the arguments when are used by a user but in a 'key-value' pair format i.e., in the form of a \\n    dictionary.\\n\""
      ]
     },
     "execution_count": 5,
     "metadata": {},
     "output_type": "execute_result"
    }
   ],
   "source": [
    "\"\"\"\n",
    "    *args: These are the arguments which are used when a user does not know about the number of arguments being used in the\n",
    "    program.These are the normal arguments a user can use like in the form lists or tuples.\n",
    "    \n",
    "    **kwargs: These are also the arguments when are used by a user but in a 'key-value' pair format i.e., in the form of a \n",
    "    dictionary.\n",
    "\"\"\""
   ]
  },
  {
   "cell_type": "code",
   "execution_count": null,
   "metadata": {
    "collapsed": true
   },
   "outputs": [],
   "source": []
  }
 ],
 "metadata": {
  "anaconda-cloud": {},
  "kernelspec": {
   "display_name": "Python [default]",
   "language": "python",
   "name": "python3"
  },
  "language_info": {
   "codemirror_mode": {
    "name": "ipython",
    "version": 3
   },
   "file_extension": ".py",
   "mimetype": "text/x-python",
   "name": "python",
   "nbconvert_exporter": "python",
   "pygments_lexer": "ipython3",
   "version": "3.5.2"
  }
 },
 "nbformat": 4,
 "nbformat_minor": 1
}
